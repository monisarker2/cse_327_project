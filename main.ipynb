{
  "nbformat": 4,
  "nbformat_minor": 0,
  "metadata": {
    "colab": {
      "provenance": [],
      "authorship_tag": "ABX9TyPuNJubiiCCGsmSP/KvgZj6",
      "include_colab_link": true
    },
    "kernelspec": {
      "name": "python3",
      "display_name": "Python 3"
    },
    "language_info": {
      "name": "python"
    }
  },
  "cells": [
    {
      "cell_type": "markdown",
      "metadata": {
        "id": "view-in-github",
        "colab_type": "text"
      },
      "source": [
        "<a href=\"https://colab.research.google.com/github/monisarker2/cse_327_project/blob/master/main.ipynb\" target=\"_parent\"><img src=\"https://colab.research.google.com/assets/colab-badge.svg\" alt=\"Open In Colab\"/></a>"
      ]
    },
    {
      "cell_type": "markdown",
      "source": [
        "Mount Google Drive in Colab"
      ],
      "metadata": {
        "id": "1ieh2aNlQtQu"
      }
    },
    {
      "cell_type": "code",
      "execution_count": 1,
      "metadata": {
        "colab": {
          "base_uri": "https://localhost:8080/"
        },
        "id": "ZHn4wpoOBRSF",
        "outputId": "13a55a3c-8e09-443e-defa-a0b64af7b2b6"
      },
      "outputs": [
        {
          "output_type": "stream",
          "name": "stdout",
          "text": [
            "Drive not mounted, so nothing to flush and unmount.\n",
            "Mounted at /content/drive\n"
          ]
        }
      ],
      "source": [
        "from google.colab import drive\n",
        "drive.flush_and_unmount()  # Unmount first to avoid errors\n",
        "drive.mount('/content/drive', force_remount=True)\n"
      ]
    },
    {
      "cell_type": "markdown",
      "source": [
        "Create Dataset Folders and Placeholder Images"
      ],
      "metadata": {
        "id": "g_gG-UfVQ3pN"
      }
    },
    {
      "cell_type": "code",
      "source": [
        "import os\n",
        "from PIL import Image\n",
        "import numpy as np\n",
        "\n",
        "# Define dataset path\n",
        "dataset_path = \"/content/drive/MyDrive/stop_sign_data\"\n",
        "\n",
        "# Define dataset split folders\n",
        "splits = {\n",
        "    \"train\": 18,  # 70% = 18 images per class\n",
        "    \"test\": 5,    # 20% = 5 images per class\n",
        "    \"validation\": 2  # 10% = 2 images per class\n",
        "}\n",
        "\n",
        "# Create the dataset folders\n",
        "for split, count in splits.items():\n",
        "    for category in [\"stop_sign\", \"no_stop_sign\"]:\n",
        "        folder = f\"{dataset_path}/{split}/{category}\"\n",
        "        os.makedirs(folder, exist_ok=True)\n",
        "\n",
        "        # Create placeholder images (You can replace them later)\n",
        "        for i in range(1, count + 1):\n",
        "            img_path = f\"{folder}/{category.replace('_sign', '')}{i}.jpg\"\n",
        "\n",
        "            # If the image doesn't exist, create a dummy one\n",
        "            if not os.path.exists(img_path):\n",
        "                img = Image.fromarray(np.random.randint(0, 255, (100, 100, 3), dtype=np.uint8))\n",
        "                img.save(img_path)\n",
        "\n",
        "print(\"✅ All dataset folders and placeholder images have been created successfully!\")\n"
      ],
      "metadata": {
        "colab": {
          "base_uri": "https://localhost:8080/"
        },
        "id": "jNq8euFvCdON",
        "outputId": "c1717813-0efe-4a1e-df66-9f52c06dfe21"
      },
      "execution_count": 2,
      "outputs": [
        {
          "output_type": "stream",
          "name": "stdout",
          "text": [
            "✅ All dataset folders and placeholder images have been created successfully!\n"
          ]
        }
      ]
    },
    {
      "cell_type": "markdown",
      "source": [
        "Verify That Folders and Images Exist"
      ],
      "metadata": {
        "id": "EV10ZTC_RBoC"
      }
    },
    {
      "cell_type": "code",
      "source": [
        "# Function to list files in each folder\n",
        "def list_files(folder):\n",
        "    return os.listdir(folder) if os.path.exists(folder) else \"❌ Folder Not Found\"\n",
        "\n",
        "# Check all folders\n",
        "print(\"Train Stop Sign Images:\", list_files(f\"{dataset_path}/train/stop_sign\"))\n",
        "print(\"Train No Stop Sign Images:\", list_files(f\"{dataset_path}/train/no_stop_sign\"))\n",
        "print(\"Test Stop Sign Images:\", list_files(f\"{dataset_path}/test/stop_sign\"))\n",
        "print(\"Test No Stop Sign Images:\", list_files(f\"{dataset_path}/test/no_stop_sign\"))\n",
        "print(\"Validation Stop Sign Images:\", list_files(f\"{dataset_path}/validation/stop_sign\"))\n",
        "print(\"Validation No Stop Sign Images:\", list_files(f\"{dataset_path}/validation/no_stop_sign\"))\n"
      ],
      "metadata": {
        "colab": {
          "base_uri": "https://localhost:8080/"
        },
        "id": "Q5yaBILpCs1x",
        "outputId": "3c739f7b-512a-48b5-aa6b-98bfbcb089f3"
      },
      "execution_count": 3,
      "outputs": [
        {
          "output_type": "stream",
          "name": "stdout",
          "text": [
            "Train Stop Sign Images: ['stop2.jpg', 'stop10.jpg', 'stop9.jpg', 'stop3.jpg', 'stop12.jpg', 'stop8.jpg', 'stop17.jpg', 'stop15.jpg', 'stop4.jpg', 'stop5.jpg', 'stop11.jpg', 'stop6.jpg', 'stop1.jpg', 'stop7.jpg', 'stop18.jpg', 'stop16.jpg', 'stop14.jpg', 'stop13.jpg']\n",
            "Train No Stop Sign Images: ['no_stop11.jpg', 'no_stop5.jpg', 'no_stop18.jpg', 'no_stop17.jpg', 'no_stop6.jpg', 'no_stop16.jpg', 'no_stop12.jpg', 'no_stop8.jpg', 'no_stop7.jpg', 'no_stop1.jpg', 'no_stop3.jpg', 'no_stop2.jpg', 'no_stop4.jpg', 'no_stop14.jpg', 'no_stop15.jpg', 'no_stop13.jpg', 'no_stop10.jpg', 'no_stop9.jpg']\n",
            "Test Stop Sign Images: ['stop1.jpg', 'stop2.jpg', 'stop3.jpg', 'stop4.jpg', 'stop5.jpg']\n",
            "Test No Stop Sign Images: ['no_stop1.jpg', 'no_stop2.jpg', 'no_stop3.jpg', 'no_stop4.jpg', 'no_stop5.jpg']\n",
            "Validation Stop Sign Images: ['stop1.jpg', 'stop2.jpg']\n",
            "Validation No Stop Sign Images: ['no_stop1.jpg', 'no_stop2.jpg']\n"
          ]
        }
      ]
    },
    {
      "cell_type": "markdown",
      "source": [
        "Import Required Libraries"
      ],
      "metadata": {
        "id": "H-p33E0_RI7G"
      }
    },
    {
      "cell_type": "code",
      "source": [
        "import os\n",
        "import numpy as np\n",
        "import cv2  # OpenCV for image processing\n",
        "from sklearn.model_selection import train_test_split\n",
        "from sklearn.svm import SVC  # Using Support Vector Machine\n",
        "from sklearn.metrics import accuracy_score, classification_report\n",
        "from sklearn.preprocessing import LabelEncoder\n",
        "from google.colab.patches import cv2_imshow"
      ],
      "metadata": {
        "id": "tTUG81BPGnGQ"
      },
      "execution_count": 4,
      "outputs": []
    },
    {
      "cell_type": "markdown",
      "source": [
        "Define Paths for Dataset"
      ],
      "metadata": {
        "id": "_SkfpqSTTZTP"
      }
    },
    {
      "cell_type": "code",
      "source": [
        "# Define dataset paths\n",
        "dataset_path = \"/content/drive/MyDrive/stop_sign_data\"\n",
        "\n",
        "# Set paths for each dataset split\n",
        "train_path = os.path.join(dataset_path, \"train\")\n",
        "test_path = os.path.join(dataset_path, \"test\")\n",
        "val_path = os.path.join(dataset_path, \"validation\")\n",
        "\n",
        "# Define categories\n",
        "categories = [\"stop_sign\", \"no_stop_sign\"]\n"
      ],
      "metadata": {
        "id": "kmnYBg5LCytG"
      },
      "execution_count": 5,
      "outputs": []
    },
    {
      "cell_type": "markdown",
      "source": [
        "Load Images & Convert to Features"
      ],
      "metadata": {
        "id": "3UI9aW-BTcn4"
      }
    },
    {
      "cell_type": "code",
      "source": [
        "def load_images_from_folder(folder):\n",
        "    images = []\n",
        "    labels = []\n",
        "\n",
        "    for category in categories:\n",
        "        category_path = os.path.join(folder, category)\n",
        "\n",
        "        # Check if category folder exists\n",
        "        if not os.path.exists(category_path):\n",
        "            print(f\"❌ Folder not found: {category_path}\")\n",
        "            continue\n",
        "\n",
        "        for img_name in os.listdir(category_path):\n",
        "            img_path = os.path.join(category_path, img_name)\n",
        "\n",
        "            # Read the image using OpenCV\n",
        "            img = cv2.imread(img_path, cv2.IMREAD_GRAYSCALE)  # Convert to grayscale\n",
        "            img = cv2.resize(img, (64, 64))  # Resize to 64x64\n",
        "\n",
        "            images.append(img)\n",
        "            labels.append(category)\n",
        "\n",
        "    return np.array(images), np.array(labels)\n",
        "\n",
        "# Load training data\n",
        "X_train, y_train = load_images_from_folder(train_path)\n",
        "\n",
        "# Load testing data\n",
        "X_test, y_test = load_images_from_folder(test_path)\n",
        "\n",
        "# Load validation data\n",
        "X_val, y_val = load_images_from_folder(val_path)\n",
        "\n",
        "print(\"✅ Dataset successfully loaded!\")\n"
      ],
      "metadata": {
        "colab": {
          "base_uri": "https://localhost:8080/"
        },
        "id": "FTHZsH1qG6GX",
        "outputId": "c9ab635d-4f53-44f3-c007-6e9ba5ce5af9"
      },
      "execution_count": 6,
      "outputs": [
        {
          "output_type": "stream",
          "name": "stdout",
          "text": [
            "✅ Dataset successfully loaded!\n"
          ]
        }
      ]
    },
    {
      "cell_type": "markdown",
      "source": [
        " Preprocess Data for Model\n"
      ],
      "metadata": {
        "id": "NNTn-G_kTj1t"
      }
    },
    {
      "cell_type": "code",
      "source": [
        "# Flatten images to 1D vectors\n",
        "X_train = X_train.reshape(len(X_train), -1)\n",
        "X_test = X_test.reshape(len(X_test), -1)\n",
        "X_val = X_val.reshape(len(X_val), -1)\n",
        "\n",
        "# Encode labels (stop_sign = 0, no_stop_sign = 1)\n",
        "label_encoder = LabelEncoder()\n",
        "y_train = label_encoder.fit_transform(y_train)\n",
        "y_test = label_encoder.transform(y_test)\n",
        "y_val = label_encoder.transform(y_val)\n",
        "\n",
        "print(f\"✅ Train set shape: {X_train.shape}, Labels: {y_train.shape}\")\n",
        "print(f\"✅ Test set shape: {X_test.shape}, Labels: {y_test.shape}\")\n",
        "print(f\"✅ Validation set shape: {X_val.shape}, Labels: {y_val.shape}\")\n"
      ],
      "metadata": {
        "colab": {
          "base_uri": "https://localhost:8080/"
        },
        "id": "SdC7-Kr7HZJt",
        "outputId": "19ac80ff-8d33-4294-84ac-729759b51ada"
      },
      "execution_count": 7,
      "outputs": [
        {
          "output_type": "stream",
          "name": "stdout",
          "text": [
            "✅ Train set shape: (36, 4096), Labels: (36,)\n",
            "✅ Test set shape: (10, 4096), Labels: (10,)\n",
            "✅ Validation set shape: (4, 4096), Labels: (4,)\n"
          ]
        }
      ]
    },
    {
      "cell_type": "markdown",
      "source": [
        " Train an SVM Model"
      ],
      "metadata": {
        "id": "6CioN6xJToLR"
      }
    },
    {
      "cell_type": "code",
      "source": [
        "# Train SVM classifier\n",
        "svm_model = SVC(kernel=\"linear\", probability=True)  # Linear Kernel for simplicity\n",
        "svm_model.fit(X_train, y_train)\n",
        "\n",
        "print(\"✅ SVM Model successfully trained!\")\n"
      ],
      "metadata": {
        "colab": {
          "base_uri": "https://localhost:8080/"
        },
        "id": "NUmRmb_NTBm-",
        "outputId": "46e94b34-906d-497b-8d33-077209ca1ff2"
      },
      "execution_count": 8,
      "outputs": [
        {
          "output_type": "stream",
          "name": "stdout",
          "text": [
            "✅ SVM Model successfully trained!\n"
          ]
        }
      ]
    },
    {
      "cell_type": "markdown",
      "source": [
        " Evaluate the Model"
      ],
      "metadata": {
        "id": "IbJ7qhHATrOw"
      }
    },
    {
      "cell_type": "code",
      "source": [
        "# Predictions on train data\n",
        "y_pred_train = svm_model.predict(X_train)\n",
        "train_accuracy = accuracy_score(y_train, y_pred_train)\n",
        "print(f\"📌 Train Accuracy: {train_accuracy:.2f}\")\n",
        "\n",
        "# Predictions on test data\n",
        "y_pred_test = svm_model.predict(X_test)\n",
        "test_accuracy = accuracy_score(y_test, y_pred_test)\n",
        "print(f\"📌 Test Accuracy: {test_accuracy:.2f}\")\n",
        "\n",
        "# Predictions on validation data\n",
        "y_pred_val = svm_model.predict(X_val)\n",
        "val_accuracy = accuracy_score(y_val, y_pred_val)\n",
        "print(f\"📌 Validation Accuracy: {val_accuracy:.2f}\")\n",
        "\n",
        "# Print detailed classification report for train data\n",
        "print(\"\\n🔍 Classification Report (Train Data):\")\n",
        "print(classification_report(y_train, y_pred_train, target_names=categories))\n",
        "\n",
        "# Print detailed classification report for test data\n",
        "print(\"\\n🔍 Classification Report (Test Data):\")\n",
        "print(classification_report(y_test, y_pred_test, target_names=categories))\n",
        "\n",
        "# Print detailed classification report for validation data\n",
        "print(\"\\n🔍 Classification Report (Validation Data):\")\n",
        "print(classification_report(y_val, y_pred_val, target_names=categories))\n"
      ],
      "metadata": {
        "colab": {
          "base_uri": "https://localhost:8080/"
        },
        "id": "-DInx4afIXmV",
        "outputId": "70863d29-4892-4ad4-c4b5-0bac84575978"
      },
      "execution_count": 10,
      "outputs": [
        {
          "output_type": "stream",
          "name": "stdout",
          "text": [
            "📌 Train Accuracy: 1.00\n",
            "📌 Test Accuracy: 0.80\n",
            "📌 Validation Accuracy: 0.50\n",
            "\n",
            "🔍 Classification Report (Train Data):\n",
            "              precision    recall  f1-score   support\n",
            "\n",
            "   stop_sign       1.00      1.00      1.00        18\n",
            "no_stop_sign       1.00      1.00      1.00        18\n",
            "\n",
            "    accuracy                           1.00        36\n",
            "   macro avg       1.00      1.00      1.00        36\n",
            "weighted avg       1.00      1.00      1.00        36\n",
            "\n",
            "\n",
            "🔍 Classification Report (Test Data):\n",
            "              precision    recall  f1-score   support\n",
            "\n",
            "   stop_sign       0.71      1.00      0.83         5\n",
            "no_stop_sign       1.00      0.60      0.75         5\n",
            "\n",
            "    accuracy                           0.80        10\n",
            "   macro avg       0.86      0.80      0.79        10\n",
            "weighted avg       0.86      0.80      0.79        10\n",
            "\n",
            "\n",
            "🔍 Classification Report (Validation Data):\n",
            "              precision    recall  f1-score   support\n",
            "\n",
            "   stop_sign       0.50      1.00      0.67         2\n",
            "no_stop_sign       0.00      0.00      0.00         2\n",
            "\n",
            "    accuracy                           0.50         4\n",
            "   macro avg       0.25      0.50      0.33         4\n",
            "weighted avg       0.25      0.50      0.33         4\n",
            "\n"
          ]
        },
        {
          "output_type": "stream",
          "name": "stderr",
          "text": [
            "/usr/local/lib/python3.11/dist-packages/sklearn/metrics/_classification.py:1565: UndefinedMetricWarning: Precision is ill-defined and being set to 0.0 in labels with no predicted samples. Use `zero_division` parameter to control this behavior.\n",
            "  _warn_prf(average, modifier, f\"{metric.capitalize()} is\", len(result))\n",
            "/usr/local/lib/python3.11/dist-packages/sklearn/metrics/_classification.py:1565: UndefinedMetricWarning: Precision is ill-defined and being set to 0.0 in labels with no predicted samples. Use `zero_division` parameter to control this behavior.\n",
            "  _warn_prf(average, modifier, f\"{metric.capitalize()} is\", len(result))\n",
            "/usr/local/lib/python3.11/dist-packages/sklearn/metrics/_classification.py:1565: UndefinedMetricWarning: Precision is ill-defined and being set to 0.0 in labels with no predicted samples. Use `zero_division` parameter to control this behavior.\n",
            "  _warn_prf(average, modifier, f\"{metric.capitalize()} is\", len(result))\n"
          ]
        }
      ]
    },
    {
      "cell_type": "markdown",
      "source": [
        "Predict on a New Image"
      ],
      "metadata": {
        "id": "25Uy-dwuTwEM"
      }
    },
    {
      "cell_type": "code",
      "source": [
        "def predict_image(image_path):\n",
        "    # Read and process the image\n",
        "    img = cv2.imread(image_path, cv2.IMREAD_GRAYSCALE)\n",
        "    img = cv2.resize(img, (64, 64))\n",
        "    img = img.reshape(1, -1)  # Flatten\n",
        "\n",
        "    # Predict\n",
        "    prediction = svm_model.predict(img)\n",
        "    label = label_encoder.inverse_transform(prediction)[0]\n",
        "\n",
        "    # Display image\n",
        "    cv2_imshow(cv2.imread(image_path))  # Display image in Google Colab\n",
        "    print(f\"🛑 Prediction: {label}\")\n",
        "\n",
        "# Test with a new image\n",
        "test_image_path = \"/content/drive/MyDrive/stop_sign_data/test/stop_sign/stop1.jpg\"  # Change as needed\n",
        "predict_image(test_image_path)\n"
      ],
      "metadata": {
        "colab": {
          "base_uri": "https://localhost:8080/",
          "height": 98
        },
        "id": "gNAHdCyFI4tb",
        "outputId": "4dd39a6b-fba0-401f-93ff-ac8ef2b3fc78"
      },
      "execution_count": null,
      "outputs": [
        {
          "output_type": "display_data",
          "data": {
            "text/plain": [
              "<PIL.Image.Image image mode=RGB size=64x64>"
            ],
            "image/png": "[encoded data removed]",
            "image/jpeg": "[encoded data removed]"
          },
          "metadata": {}
        },
        {
          "output_type": "stream",
          "name": "stdout",
          "text": [
            "🛑 Prediction: stop_sign\n"
          ]
        }
      ]
    }
  ]
}